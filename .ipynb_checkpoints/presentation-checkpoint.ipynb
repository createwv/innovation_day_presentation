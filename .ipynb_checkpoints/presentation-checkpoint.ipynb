{
 "cells": [
  {
   "cell_type": "markdown",
   "metadata": {},
   "source": [
    "<center><img src=\"create_logo.png\"></img></center>"
   ]
  },
  {
   "cell_type": "markdown",
   "metadata": {},
   "source": [
    "___"
   ]
  },
  {
   "cell_type": "markdown",
   "metadata": {},
   "source": [
    "```\n",
    "Our vision is for West Virginia and its people to be creative, confident, diverse, technologically advanced, collaborative, innovative, prosperous, and well connected.\n",
    "```\n",
    "\n",
    "<h1><center>Innovation Economy</center></h1>\n",
    "\n",
    "* ## Entrepreneurship\n",
    "### *Working how, where, when you want, growing you and your communities' ideas*\n",
    "```\n",
    "Create West Virginia not only celebrates tinkerers, makers, and dreamers, we support them by engaging them in pitches, connections with partners and resources, and educate potential entrepreneurs of all ages.\n",
    "```\n",
    "\n",
    "* ##  Education\n",
    "### *Fostering natural human curiosity, collaboration, and exposure to tools*\n",
    "\n",
    "```\n",
    "From educational opportunities for expectant parents, to pre-school, to continuous skill development through programs and community centers that serve as living labs, Create West Virginia is fostering a culture that embraces the joy of discovery through learning and collaborating.\n",
    "```\n",
    "\n",
    "* ##  Technology\n",
    "Global connections and the power to move mountains from the keyboard\n",
    " \n",
    "\n",
    "It's not just a rapidly growing industry, if you aren't looking at the most up to date technology in your sector, you are missing out on big opportunity. Technology allows us to work smarter not harder. We can reach more people, gather more data, automate, streamline. Chances are, if you don't believe technology can solve your problems, then you haven't learned enough to make technology work for you. When the light bulb lights up, your life will never be the same.\n",
    "\n",
    "Every study of technology is equally as important and all are overlapping. Cyber-security is extremely important as we bring access to technology to more and more people. Financial technology has had many advances with the introduction of blockchain which is applicable in more ways than just currency. Robotics and electrical engineering allows you to use technology to directly interact with our physical world—the screen is not the limit. Data science empowers us with vast amounts of knowledge once thought unattainable, and machine learning breaks down huge barriers. Web development allows us to network devices, communicate, create efficient tools. Don't be a user, be a super user and dive into tech.\n",
    "\n",
    "\n",
    "* ## Diversity\n",
    "Connections to people of all races, genders, ages, and abilities\n",
    "\n",
    "Keep a diverse portfolio. Isn't that what a good investor would tell you? That's why it's important to invest in diversity itself. That means people of different race and backgrounds, people of all different ages, people with different abilities, people with different genders and sexual orientation, people with different ideas and new perspective. These people must be connected and put into leadership for West Virginia to progress.\n",
    "\n",
    "At the turn of the 20th century, West Virginia was one of the most ethnically diverse places in the United States. More than a hundred languages were spoken in various regions of the state, where African Americans flocked from the South to join immigrant Italians, Hungarians, and Jews to work in the coal fields. West Virginia's Northern Panhandle was the new home of thousands of Italians and Eastern Europeans who came to build steel mills. Flemish glass specialists jump-started the state's industrial glass industry. A burgeoning chemical industry in the mid-20th century brought innovators from around the world to the Kanawha Valley, where they created enormous wealth for such companies as Union Carbide, DuPont, FMC, and other industry giants. And Charleston was once home to the largest Lebanese population outside of Lebanon, who came, it is said, because the region reminded them on their mountainous homeland in Lebonon's fertile crescent.\n",
    "\n",
    " \n",
    "\n",
    "These ethic groups and others still enrich the culture today, but we want more: more people who bring ideas that will reboot our towns, enliven the conversation, stimulate us to place ourselves among the most creative communities in the world. Gender, sexual orientation, philosophy, race, age, religion—we're working through all of it, keeping our cool.\n",
    "\n",
    "* ## Quality of Place\n",
    "Environments communities desire. Arts, entertainment, and healthy living\n",
    "\n",
    "What makes a community cool?  A place where all kinds of people feel at ease, safe, stimulated to do their best work, where opportunities for creative play are as abundant as career opportunities?  One, it's the people, and two, it's the place, as envisioned and created by the people.  West Virginia has extravagant riches in outdoor recreation assets.\n",
    "\n",
    "### Strategies\n",
    "\n",
    "* Supporting the development of creative communities, companies, centers of learning that thrive in the global Innovation Economy. But more importantly, connecting them with one another.\n",
    "* Training local community leaders in innovation economy principles through conferences, workshops and community gatherings, and encouraging communities to incorporate these principles in community growth plans. \n",
    "* Developing, launching and supporting commercial and social entrepreneurship projects, businesses, and initiatives that further connect and empower creatives and entrepreneurs. \n",
    "* Reaching out globally to recruit creatives who want to build interesting lives and careers that matter in a place brimming with raw opportunity.  "
   ]
  },
  {
   "cell_type": "code",
   "execution_count": null,
   "metadata": {},
   "outputs": [],
   "source": []
  },
  {
   "cell_type": "code",
   "execution_count": null,
   "metadata": {},
   "outputs": [],
   "source": []
  },
  {
   "cell_type": "code",
   "execution_count": null,
   "metadata": {},
   "outputs": [],
   "source": []
  },
  {
   "cell_type": "code",
   "execution_count": null,
   "metadata": {},
   "outputs": [],
   "source": []
  },
  {
   "cell_type": "code",
   "execution_count": null,
   "metadata": {},
   "outputs": [],
   "source": []
  },
  {
   "cell_type": "markdown",
   "metadata": {},
   "source": [
    "<h2><center>Goal Miners</center></h2>"
   ]
  },
  {
   "cell_type": "markdown",
   "metadata": {},
   "source": [
    "<img src=\"goal_miners_logo.png\"></img>"
   ]
  },
  {
   "cell_type": "markdown",
   "metadata": {},
   "source": [
    "**https://www.createwv.org/goalminers**"
   ]
  },
  {
   "cell_type": "markdown",
   "metadata": {},
   "source": [
    "***"
   ]
  },
  {
   "cell_type": "markdown",
   "metadata": {},
   "source": [
    "<h2><center>Pi Day</center></h2>"
   ]
  },
  {
   "cell_type": "markdown",
   "metadata": {},
   "source": [
    "<img src=\"holding_pi.jpg\"></img>"
   ]
  },
  {
   "cell_type": "markdown",
   "metadata": {},
   "source": [
    "<h2><center>Robotics</center></h2>"
   ]
  },
  {
   "cell_type": "code",
   "execution_count": 6,
   "metadata": {
    "collapsed": true
   },
   "outputs": [
    {
     "ename": "ImportError",
     "evalue": "No module named 'RPi'",
     "output_type": "error",
     "traceback": [
      "\u001b[0;31m-----------------------------------------------------------------------\u001b[0m",
      "\u001b[0;31mImportError\u001b[0m                           Traceback (most recent call last)",
      "\u001b[0;32m<ipython-input-6-8f3fedcb5476>\u001b[0m in \u001b[0;36m<module>\u001b[0;34m()\u001b[0m\n\u001b[1;32m      1\u001b[0m \u001b[0;31m# Import the modules\u001b[0m\u001b[0;34m\u001b[0m\u001b[0;34m\u001b[0m\u001b[0m\n\u001b[0;32m----> 2\u001b[0;31m \u001b[0;32mimport\u001b[0m \u001b[0mRPi\u001b[0m\u001b[0;34m.\u001b[0m\u001b[0mGPIO\u001b[0m \u001b[0;32mas\u001b[0m \u001b[0mGPIO\u001b[0m\u001b[0;34m\u001b[0m\u001b[0m\n\u001b[0m\u001b[1;32m      3\u001b[0m \u001b[0;32mimport\u001b[0m \u001b[0mtime\u001b[0m\u001b[0;34m\u001b[0m\u001b[0m\n",
      "\u001b[0;31mImportError\u001b[0m: No module named 'RPi'"
     ]
    }
   ],
   "source": [
    "# Import the modules\n",
    "import RPi.GPIO as GPIO\n",
    "import time"
   ]
  },
  {
   "cell_type": "code",
   "execution_count": 5,
   "metadata": {
    "collapsed": true
   },
   "outputs": [
    {
     "ename": "NameError",
     "evalue": "name 'GPIO' is not defined",
     "output_type": "error",
     "traceback": [
      "\u001b[0;31m-----------------------------------------------------------------------\u001b[0m",
      "\u001b[0;31mNameError\u001b[0m                             Traceback (most recent call last)",
      "\u001b[0;32m<ipython-input-5-f9c834cb40de>\u001b[0m in \u001b[0;36m<module>\u001b[0;34m()\u001b[0m\n\u001b[1;32m      1\u001b[0m \u001b[0;31m# Setup\u001b[0m\u001b[0;34m\u001b[0m\u001b[0;34m\u001b[0m\u001b[0m\n\u001b[0;32m----> 2\u001b[0;31m \u001b[0mGPIO\u001b[0m\u001b[0;34m.\u001b[0m\u001b[0msetmode\u001b[0m\u001b[0;34m(\u001b[0m\u001b[0mGPIO\u001b[0m\u001b[0;34m.\u001b[0m\u001b[0mBCM\u001b[0m\u001b[0;34m)\u001b[0m\u001b[0;34m\u001b[0m\u001b[0m\n\u001b[0m\u001b[1;32m      3\u001b[0m \u001b[0mGPIO\u001b[0m\u001b[0;34m.\u001b[0m\u001b[0msetwarnings\u001b[0m\u001b[0;34m(\u001b[0m\u001b[0;32mFalse\u001b[0m\u001b[0;34m)\u001b[0m\u001b[0;34m\u001b[0m\u001b[0m\n\u001b[1;32m      4\u001b[0m \u001b[0mGPIO\u001b[0m\u001b[0;34m.\u001b[0m\u001b[0msetup\u001b[0m\u001b[0;34m(\u001b[0m\u001b[0;36m18\u001b[0m\u001b[0;34m,\u001b[0m\u001b[0mGPIO\u001b[0m\u001b[0;34m.\u001b[0m\u001b[0mOUT\u001b[0m\u001b[0;34m)\u001b[0m\u001b[0;34m\u001b[0m\u001b[0m\n",
      "\u001b[0;31mNameError\u001b[0m: name 'GPIO' is not defined"
     ]
    }
   ],
   "source": [
    "# Setup the pins\n",
    "led_pin = 18\n",
    "GPIO.setmode(GPIO.BCM)\n",
    "GPIO.setwarnings(False)\n",
    "GPIO.setup(led_pin,GPIO.OUT)"
   ]
  },
  {
   "cell_type": "markdown",
   "metadata": {},
   "source": [
    "<i><h3>Turn on the light on and wait one second</h3></i>"
   ]
  },
  {
   "cell_type": "code",
   "execution_count": null,
   "metadata": {},
   "outputs": [],
   "source": [
    "print(\"LED on\")\n",
    "GPIO.output(18,GPIO.HIGH)\n",
    "time.sleep(1)"
   ]
  },
  {
   "cell_type": "markdown",
   "metadata": {},
   "source": [
    "<i><h3>Turn it off and wait one second</h3></i>"
   ]
  },
  {
   "cell_type": "code",
   "execution_count": 7,
   "metadata": {
    "collapsed": true
   },
   "outputs": [
    {
     "name": "stdout",
     "output_type": "stream",
     "text": [
      "LED off\n"
     ]
    },
    {
     "ename": "NameError",
     "evalue": "name 'GPIO' is not defined",
     "output_type": "error",
     "traceback": [
      "\u001b[0;31m-----------------------------------------------------------------------\u001b[0m",
      "\u001b[0;31mNameError\u001b[0m                             Traceback (most recent call last)",
      "\u001b[0;32m<ipython-input-7-2b29ad4d9243>\u001b[0m in \u001b[0;36m<module>\u001b[0;34m()\u001b[0m\n\u001b[1;32m      1\u001b[0m \u001b[0mprint\u001b[0m\u001b[0;34m(\u001b[0m\u001b[0;34m\"LED off\"\u001b[0m\u001b[0;34m)\u001b[0m\u001b[0;34m\u001b[0m\u001b[0m\n\u001b[0;32m----> 2\u001b[0;31m \u001b[0mGPIO\u001b[0m\u001b[0;34m.\u001b[0m\u001b[0moutput\u001b[0m\u001b[0;34m(\u001b[0m\u001b[0;36m18\u001b[0m\u001b[0;34m,\u001b[0m\u001b[0mGPIO\u001b[0m\u001b[0;34m.\u001b[0m\u001b[0mLOW\u001b[0m\u001b[0;34m)\u001b[0m\u001b[0;34m\u001b[0m\u001b[0m\n\u001b[0m",
      "\u001b[0;31mNameError\u001b[0m: name 'GPIO' is not defined"
     ]
    }
   ],
   "source": [
    "print(\"LED off\")\n",
    "GPIO.output(18,GPIO.LOW)\n",
    "time.sleep(1)"
   ]
  },
  {
   "cell_type": "markdown",
   "metadata": {},
   "source": [
    "<i><h3>Make a function!</h3></i>"
   ]
  },
  {
   "cell_type": "code",
   "execution_count": 11,
   "metadata": {},
   "outputs": [],
   "source": [
    "def on_off():\n",
    "    print(\"LED on\")\n",
    "    GPIO.output(18,GPIO.HIGH)\n",
    "    time.sleep(1)\n",
    "    print(\"LED off\")\n",
    "    GPIO.output(18,GPIO.LOW)\n",
    "    time.sleep(1)"
   ]
  },
  {
   "cell_type": "markdown",
   "metadata": {},
   "source": [
    "<i><h3>Try the function out</h3></i>"
   ]
  },
  {
   "cell_type": "code",
   "execution_count": 13,
   "metadata": {},
   "outputs": [
    {
     "name": "stdout",
     "output_type": "stream",
     "text": [
      "LED on\n"
     ]
    },
    {
     "ename": "NameError",
     "evalue": "name 'GPIO' is not defined",
     "output_type": "error",
     "traceback": [
      "\u001b[0;31m-----------------------------------------------------------------------\u001b[0m",
      "\u001b[0;31mNameError\u001b[0m                             Traceback (most recent call last)",
      "\u001b[0;32m<ipython-input-13-a81e09838795>\u001b[0m in \u001b[0;36m<module>\u001b[0;34m()\u001b[0m\n\u001b[0;32m----> 1\u001b[0;31m \u001b[0mon_off\u001b[0m\u001b[0;34m(\u001b[0m\u001b[0;34m)\u001b[0m\u001b[0;34m\u001b[0m\u001b[0m\n\u001b[0m",
      "\u001b[0;32m<ipython-input-11-b023fc9367bf>\u001b[0m in \u001b[0;36mon_off\u001b[0;34m()\u001b[0m\n\u001b[1;32m      1\u001b[0m \u001b[0;32mdef\u001b[0m \u001b[0mon_off\u001b[0m\u001b[0;34m(\u001b[0m\u001b[0;34m)\u001b[0m\u001b[0;34m:\u001b[0m\u001b[0;34m\u001b[0m\u001b[0m\n\u001b[1;32m      2\u001b[0m     \u001b[0mprint\u001b[0m\u001b[0;34m(\u001b[0m\u001b[0;34m\"LED on\"\u001b[0m\u001b[0;34m)\u001b[0m\u001b[0;34m\u001b[0m\u001b[0m\n\u001b[0;32m----> 3\u001b[0;31m     \u001b[0mGPIO\u001b[0m\u001b[0;34m.\u001b[0m\u001b[0moutput\u001b[0m\u001b[0;34m(\u001b[0m\u001b[0;36m18\u001b[0m\u001b[0;34m,\u001b[0m\u001b[0mGPIO\u001b[0m\u001b[0;34m.\u001b[0m\u001b[0mHIGH\u001b[0m\u001b[0;34m)\u001b[0m\u001b[0;34m\u001b[0m\u001b[0m\n\u001b[0m\u001b[1;32m      4\u001b[0m     \u001b[0mtime\u001b[0m\u001b[0;34m.\u001b[0m\u001b[0msleep\u001b[0m\u001b[0;34m(\u001b[0m\u001b[0;36m1\u001b[0m\u001b[0;34m)\u001b[0m\u001b[0;34m\u001b[0m\u001b[0m\n\u001b[1;32m      5\u001b[0m     \u001b[0mprint\u001b[0m\u001b[0;34m(\u001b[0m\u001b[0;34m\"LED off\"\u001b[0m\u001b[0;34m)\u001b[0m\u001b[0;34m\u001b[0m\u001b[0m\n",
      "\u001b[0;31mNameError\u001b[0m: name 'GPIO' is not defined"
     ]
    }
   ],
   "source": [
    "on_off()"
   ]
  },
  {
   "cell_type": "markdown",
   "metadata": {},
   "source": [
    "<i><h3>Make it versatile with arguments</h3></i>"
   ]
  },
  {
   "cell_type": "code",
   "execution_count": null,
   "metadata": {},
   "outputs": [],
   "source": [
    "def on_off(on_time, off_time):\n",
    "    print(\"LED on\")\n",
    "    GPIO.output(18,GPIO.HIGH)\n",
    "    time.sleep(on_time)\n",
    "    print(\"LED off\")\n",
    "    GPIO.output(18,GPIO.LOW)\n",
    "    time.sleep(off_time)"
   ]
  },
  {
   "cell_type": "markdown",
   "metadata": {},
   "source": [
    "<i><h3>Try passing it some different arguments</h3></i>"
   ]
  },
  {
   "cell_type": "code",
   "execution_count": null,
   "metadata": {},
   "outputs": [],
   "source": [
    "on_off(0.3, 1)"
   ]
  },
  {
   "cell_type": "markdown",
   "metadata": {},
   "source": [
    "<h2><center>Data Science</center></h2>"
   ]
  },
  {
   "cell_type": "markdown",
   "metadata": {},
   "source": [
    "### *Imports*"
   ]
  },
  {
   "cell_type": "code",
   "execution_count": null,
   "metadata": {},
   "outputs": [],
   "source": [
    "%matplotlib inline\n",
    "import matplotlib.pyplot as plt\n",
    "import pandas as pd\n",
    "print(\"pandas version {}\".format(pd.__version__))"
   ]
  },
  {
   "cell_type": "markdown",
   "metadata": {},
   "source": [
    "### *Variables*"
   ]
  },
  {
   "cell_type": "code",
   "execution_count": 12,
   "metadata": {},
   "outputs": [
    {
     "name": "stdout",
     "output_type": "stream",
     "text": [
      "pandas version 0.22.0\n"
     ]
    }
   ],
   "source": [
    "dates = [\"2016-10-11\", \"2016-11-09\", \"2016-09-09\", \"2016-10-19\"]\n",
    "df = pd.DataFrame({\"name\": ['john', 'alice', 'bob', 'jane'],\n",
    "                   \"age\": [34, 56, 31, 24],\n",
    "                   \"subs\": [True, True, False, True],\n",
    "                   \"logged\": [pd.Timestamp(x) for x in dates]})"
   ]
  },
  {
   "cell_type": "code",
   "execution_count": 13,
   "metadata": {},
   "outputs": [
    {
     "data": {
      "text/html": [
       "<div>\n",
       "<style scoped>\n",
       "    .dataframe tbody tr th:only-of-type {\n",
       "        vertical-align: middle;\n",
       "    }\n",
       "\n",
       "    .dataframe tbody tr th {\n",
       "        vertical-align: top;\n",
       "    }\n",
       "\n",
       "    .dataframe thead th {\n",
       "        text-align: right;\n",
       "    }\n",
       "</style>\n",
       "<table border=\"1\" class=\"dataframe\">\n",
       "  <thead>\n",
       "    <tr style=\"text-align: right;\">\n",
       "      <th></th>\n",
       "      <th>age</th>\n",
       "      <th>logged</th>\n",
       "      <th>name</th>\n",
       "      <th>subs</th>\n",
       "    </tr>\n",
       "  </thead>\n",
       "  <tbody>\n",
       "    <tr>\n",
       "      <th>0</th>\n",
       "      <td>34</td>\n",
       "      <td>2016-10-11</td>\n",
       "      <td>john</td>\n",
       "      <td>True</td>\n",
       "    </tr>\n",
       "    <tr>\n",
       "      <th>1</th>\n",
       "      <td>56</td>\n",
       "      <td>2016-11-09</td>\n",
       "      <td>alice</td>\n",
       "      <td>True</td>\n",
       "    </tr>\n",
       "    <tr>\n",
       "      <th>2</th>\n",
       "      <td>31</td>\n",
       "      <td>2016-09-09</td>\n",
       "      <td>bob</td>\n",
       "      <td>False</td>\n",
       "    </tr>\n",
       "    <tr>\n",
       "      <th>3</th>\n",
       "      <td>24</td>\n",
       "      <td>2016-10-19</td>\n",
       "      <td>jane</td>\n",
       "      <td>True</td>\n",
       "    </tr>\n",
       "  </tbody>\n",
       "</table>\n",
       "</div>"
      ],
      "text/plain": [
       "   age     logged   name   subs\n",
       "0   34 2016-10-11   john   True\n",
       "1   56 2016-11-09  alice   True\n",
       "2   31 2016-09-09    bob  False\n",
       "3   24 2016-10-19   jane   True"
      ]
     },
     "execution_count": 13,
     "metadata": {},
     "output_type": "execute_result"
    }
   ],
   "source": [
    "df"
   ]
  },
  {
   "cell_type": "markdown",
   "metadata": {},
   "source": [
    "### *Get descriptive statistics of the age column*"
   ]
  },
  {
   "cell_type": "code",
   "execution_count": 15,
   "metadata": {},
   "outputs": [
    {
     "data": {
      "text/html": [
       "<div>\n",
       "<style scoped>\n",
       "    .dataframe tbody tr th:only-of-type {\n",
       "        vertical-align: middle;\n",
       "    }\n",
       "\n",
       "    .dataframe tbody tr th {\n",
       "        vertical-align: top;\n",
       "    }\n",
       "\n",
       "    .dataframe thead th {\n",
       "        text-align: right;\n",
       "    }\n",
       "</style>\n",
       "<table border=\"1\" class=\"dataframe\">\n",
       "  <thead>\n",
       "    <tr style=\"text-align: right;\">\n",
       "      <th></th>\n",
       "      <th>age</th>\n",
       "    </tr>\n",
       "  </thead>\n",
       "  <tbody>\n",
       "    <tr>\n",
       "      <th>count</th>\n",
       "      <td>4.00000</td>\n",
       "    </tr>\n",
       "    <tr>\n",
       "      <th>mean</th>\n",
       "      <td>36.25000</td>\n",
       "    </tr>\n",
       "    <tr>\n",
       "      <th>std</th>\n",
       "      <td>13.81726</td>\n",
       "    </tr>\n",
       "    <tr>\n",
       "      <th>min</th>\n",
       "      <td>24.00000</td>\n",
       "    </tr>\n",
       "    <tr>\n",
       "      <th>25%</th>\n",
       "      <td>29.25000</td>\n",
       "    </tr>\n",
       "    <tr>\n",
       "      <th>50%</th>\n",
       "      <td>32.50000</td>\n",
       "    </tr>\n",
       "    <tr>\n",
       "      <th>75%</th>\n",
       "      <td>39.50000</td>\n",
       "    </tr>\n",
       "    <tr>\n",
       "      <th>max</th>\n",
       "      <td>56.00000</td>\n",
       "    </tr>\n",
       "  </tbody>\n",
       "</table>\n",
       "</div>"
      ],
      "text/plain": [
       "            age\n",
       "count   4.00000\n",
       "mean   36.25000\n",
       "std    13.81726\n",
       "min    24.00000\n",
       "25%    29.25000\n",
       "50%    32.50000\n",
       "75%    39.50000\n",
       "max    56.00000"
      ]
     },
     "execution_count": 15,
     "metadata": {},
     "output_type": "execute_result"
    }
   ],
   "source": [
    "df[['age']].describe()"
   ]
  },
  {
   "cell_type": "markdown",
   "metadata": {},
   "source": [
    "## Interactive example"
   ]
  },
  {
   "cell_type": "markdown",
   "metadata": {},
   "source": [
    "### *Imports*"
   ]
  },
  {
   "cell_type": "code",
   "execution_count": 16,
   "metadata": {},
   "outputs": [],
   "source": [
    "from ipywidgets import interact, interactive, fixed, interact_manual\n",
    "import ipywidgets as widgets\n",
    "from IPython.display import display\n",
    "\n",
    "import numpy as np\n",
    "\n",
    "from scipy.optimize import curve_fit as cf"
   ]
  },
  {
   "cell_type": "markdown",
   "metadata": {},
   "source": [
    "### *Variables*"
   ]
  },
  {
   "cell_type": "code",
   "execution_count": 17,
   "metadata": {},
   "outputs": [],
   "source": [
    "N_samples = 25\n",
    "x=np.linspace(-2,2,N_samples)"
   ]
  },
  {
   "cell_type": "markdown",
   "metadata": {},
   "source": [
    "### Function definitions (ideal fitting function and actual data generating function with noise)"
   ]
  },
  {
   "cell_type": "code",
   "execution_count": 18,
   "metadata": {},
   "outputs": [],
   "source": [
    "def f(x,a,mu,sigma):\n",
    "    r=a*np.exp(-(x-mu)**2/(2*sigma**2))\n",
    "    return (r)"
   ]
  },
  {
   "cell_type": "code",
   "execution_count": 19,
   "metadata": {},
   "outputs": [],
   "source": [
    "def func(amplitude,ideal_mu,ideal_sigma,noise_sd,noise_mean):\n",
    "    r=amplitude*np.exp(-(x-ideal_mu)**2/(2*ideal_sigma**2))\n",
    "    plt.figure(figsize=(8,5))\n",
    "    plt.plot(x,r,c='k',lw=3)\n",
    "    r= r+np.random.normal(loc=noise_mean,scale=noise_sd,size=N_samples)\n",
    "    plt.scatter(x,r,edgecolors='k',c='yellow',s=60)\n",
    "    plt.grid(True)\n",
    "    plt.show()\n",
    "    return (r)"
   ]
  },
  {
   "cell_type": "code",
   "execution_count": 8,
   "metadata": {},
   "outputs": [
    {
     "data": {
      "application/vnd.jupyter.widget-view+json": {
       "model_id": "abb1e5abf9c74d389df43e8fccbc5361",
       "version_major": 2,
       "version_minor": 0
      },
      "text/html": [
       "<p>Failed to display Jupyter Widget of type <code>interactive</code>.</p>\n",
       "<p>\n",
       "  If you're reading this message in the Jupyter Notebook or JupyterLab Notebook, it may mean\n",
       "  that the widgets JavaScript is still loading. If this message persists, it\n",
       "  likely means that the widgets JavaScript library is either not installed or\n",
       "  not enabled. See the <a href=\"https://ipywidgets.readthedocs.io/en/stable/user_install.html\">Jupyter\n",
       "  Widgets Documentation</a> for setup instructions.\n",
       "</p>\n",
       "<p>\n",
       "  If you're reading this message in another frontend (for example, a static\n",
       "  rendering on GitHub or <a href=\"https://nbviewer.jupyter.org/\">NBViewer</a>),\n",
       "  it may mean that your frontend doesn't currently support widgets.\n",
       "</p>\n"
      ],
      "text/plain": [
       "interactive(children=(Dropdown(description='amplitude', options=(1, 2, 3, 4, 5), value=1), FloatSlider(value=0.0, description='ideal_mu', max=5.0, min=-5.0, step=0.5), FloatSlider(value=1.0, description='ideal_sigma', max=2.0, step=0.2), FloatSlider(value=0.0, description='noise_sd', max=1.0), FloatSlider(value=0.0, description='noise_mean', max=1.0, min=-1.0, step=0.2), Output()), _dom_classes=('widget-interact',))"
      ]
     },
     "metadata": {},
     "output_type": "display_data"
    }
   ],
   "source": [
    "y=interactive(func,amplitude=[1,2,3,4,5],ideal_mu=(-5,5,0.5),\n",
    "              ideal_sigma=(0,2,0.2),\n",
    "              noise_sd=(0,1,0.1),noise_mean=(-1,1,0.2))\n",
    "display(y)"
   ]
  },
  {
   "cell_type": "markdown",
   "metadata": {},
   "source": [
    "<h2><center>Minecraft</center></h2>"
   ]
  },
  {
   "cell_type": "markdown",
   "metadata": {},
   "source": [
    "### *Imports*"
   ]
  },
  {
   "cell_type": "code",
   "execution_count": null,
   "metadata": {},
   "outputs": [],
   "source": [
    "import mcpi\n",
    "from mcpi.minecraft import Minecraft"
   ]
  },
  {
   "cell_type": "markdown",
   "metadata": {},
   "source": [
    "### *Variables*"
   ]
  },
  {
   "cell_type": "markdown",
   "metadata": {},
   "source": [
    "mc = Minecraft.create() # create Minecraft Object"
   ]
  },
  {
   "cell_type": "markdown",
   "metadata": {},
   "source": [
    "### **Bridge Builder** "
   ]
  },
  {
   "cell_type": "code",
   "execution_count": null,
   "metadata": {},
   "outputs": [],
   "source": [
    "while True:\n",
    "    x, y, z = mc.player.getPos() # store player position\n",
    " \n",
    "    # store the surrounding blocks\n",
    "    a = mc.getBlock(x, y - 1, z + 1) \n",
    "    b = mc.getBlock(x, y - 1, z - 1)\n",
    "    c = mc.getBlock(x - 1, y - 1, z) \n",
    "    d = mc.getBlock(x + 1, y - 1, z) \n",
    "\n",
    "    if a == 8 or a == 9 or b == 8 or b == 9 or c == 8 or c == 9 or d == 8 or d == 9:\n",
    "        # 8 or 9 is water. Set surrounding blocks on floor to a solid (stone) if water is found\n",
    "        mc.setBlocks(x, y - 1, z, x + 1, y - 1, z + 1, 1) \n",
    "        mc.setBlocks(x, y - 1, z, x - 1, y - 1, z - 1, 1) \n",
    "        mc.setBlocks(x, y - 1, z, x - 1, y - 1, z + 1, 1) \n",
    "        mc.setBlocks(x, y - 1, z, x + 1, y - 1, z - 1, 1)"
   ]
  },
  {
   "cell_type": "code",
   "execution_count": 1,
   "metadata": {},
   "outputs": [
    {
     "data": {
      "application/vnd.jupyter.widget-view+json": {
       "model_id": "6d07a24da8a0496ab6f0d393cfc40364",
       "version_major": 2,
       "version_minor": 0
      },
      "text/html": [
       "<p>Failed to display Jupyter Widget of type <code>Turtle</code>.</p>\n",
       "<p>\n",
       "  If you're reading this message in the Jupyter Notebook or JupyterLab Notebook, it may mean\n",
       "  that the widgets JavaScript is still loading. If this message persists, it\n",
       "  likely means that the widgets JavaScript library is either not installed or\n",
       "  not enabled. See the <a href=\"https://ipywidgets.readthedocs.io/en/stable/user_install.html\">Jupyter\n",
       "  Widgets Documentation</a> for setup instructions.\n",
       "</p>\n",
       "<p>\n",
       "  If you're reading this message in another frontend (for example, a static\n",
       "  rendering on GitHub or <a href=\"https://nbviewer.jupyter.org/\">NBViewer</a>),\n",
       "  it may mean that your frontend doesn't currently support widgets.\n",
       "</p>\n"
      ],
      "text/plain": [
       "Turtle()"
      ]
     },
     "metadata": {},
     "output_type": "display_data"
    }
   ],
   "source": [
    "#import the minecraft.py module from the minecraft directory\n",
    "import minecraft.minecraft as minecraft\n",
    "#import minecraft block module\n",
    "import minecraft.block as block\n",
    "#import time, so delays can be used\n",
    "import time\n",
    "\n",
    "if True:\n",
    "    \n",
    "    time.sleep(2)\n",
    "\n",
    "    #Connect to minecraft by creating the minecraft object\n",
    "    # - minecraft needs to be running and in a game\n",
    "    mc = minecraft.Minecraft.create()\n",
    "\n",
    "    #Post a message to the minecraft chat window\n",
    "    mc.postToChat(\"Hi, Minecraft API, the basics, what can you do? \")\n",
    "\n",
    "    time.sleep(5)\n",
    "\n",
    "    #Find out your players position\n",
    "    playerPos = mc.player.getPos()\n",
    "    mc.postToChat(\"Find your position - its x=\" + str(playerPos.x) + \", y=\" + str(playerPos.y) + \", z=\" + str(playerPos.z))\n",
    "\n",
    "    time.sleep(5)\n",
    "\n",
    "    #Using your players position\n",
    "    # - the players position is an x,y,z coordinate of floats (e.g. 23.59,12.00,-45.32)\n",
    "    # - in order to use the players position in other commands we need integers (e.g. 23,12,-45)\n",
    "    # - so round the players position\n",
    "    # - the Vec3 object is part of the minecraft class library\n",
    "    playerPos = minecraft.Vec3(int(playerPos.x), int(playerPos.y), int(playerPos.z))\n",
    "\n",
    "    #Changing your players position\n",
    "    mc.postToChat(\"Move your player - 30 blocks UP!\")\n",
    "    time.sleep(2)\n",
    "    mc.player.setPos(playerPos.x,playerPos.y + 30,playerPos.z)\n",
    "    # - wait for you to fall!\n",
    "    time.sleep(5)\n",
    "\n",
    "    #Interacting with a block\n",
    "    # - get the type block directly below you\n",
    "    blockType =  mc.getBlock(playerPos.x,playerPos.y - 1,playerPos.z)\n",
    "    mc.postToChat(\"Interact with blocks - the block below you is of type - \" + str(blockType))\n",
    "\n",
    "    time.sleep(5)\n",
    "\n",
    "    # - change the block below you to wood planks\n",
    "    mc.setBlock(playerPos.x,playerPos.y-1,playerPos.z,block.WOOD_PLANKS)\n",
    "    mc.postToChat(\"Change blocks - the block below you is now wood planks\")\n",
    "\n",
    "    time.sleep(5)\n",
    "\n",
    "    #Creating many blocks\n",
    "    mc.postToChat(\"Create blocks - making a diamond tower\")\n",
    "\n",
    "    # - loop 20 times\n",
    "    for up in range(0, 20):\n",
    "        mc.setBlock(playerPos.x + 1, playerPos.y + up, playerPos.z, block.DIAMOND_BLOCK)\n",
    "\n",
    "    time.sleep(2)\n",
    "\n",
    "    # - put you on top of the tower\n",
    "    mc.postToChat(\"Dont look down, because Im putting you on top of it!\")\n",
    "    time.sleep(1)\n",
    "    mc.player.setPos(playerPos.x + 1, playerPos.y + 20, playerPos.z)\n",
    "\n",
    "    time.sleep(5)\n",
    "\n",
    "    mc.postToChat(\"Fun huh!?\")\n"
   ]
  },
  {
   "cell_type": "markdown",
   "metadata": {},
   "source": [
    "___"
   ]
  },
  {
   "cell_type": "markdown",
   "metadata": {},
   "source": [
    "<h1><center>Innovation Platform</center></h1>"
   ]
  },
  {
   "cell_type": "markdown",
   "metadata": {},
   "source": [
    "<img src=\"universiwork-app-mockup-1.png\"></img>"
   ]
  },
  {
   "cell_type": "markdown",
   "metadata": {},
   "source": [
    "<img src=\"universiwork-app-mockup-1.png\"></img>"
   ]
  },
  {
   "cell_type": "markdown",
   "metadata": {},
   "source": [
    "<h3><center><i>Developing Individuals</i></center></h3>"
   ]
  },
  {
   "cell_type": "markdown",
   "metadata": {},
   "source": [
    "<img src=\"universiwork-app-user-flow.png\"></img>"
   ]
  },
  {
   "cell_type": "code",
   "execution_count": null,
   "metadata": {},
   "outputs": [],
   "source": []
  }
 ],
 "metadata": {
  "kernelspec": {
   "display_name": "Python 3",
   "language": "python",
   "name": "python3"
  },
  "language_info": {
   "codemirror_mode": {
    "name": "ipython",
    "version": 3
   },
   "file_extension": ".py",
   "mimetype": "text/x-python",
   "name": "python",
   "nbconvert_exporter": "python",
   "pygments_lexer": "ipython3",
   "version": "3.5.3"
  }
 },
 "nbformat": 4,
 "nbformat_minor": 2
}
